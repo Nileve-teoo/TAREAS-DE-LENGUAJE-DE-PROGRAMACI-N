{
  "nbformat": 4,
  "nbformat_minor": 0,
  "metadata": {
    "colab": {
      "provenance": [],
      "authorship_tag": "ABX9TyM4vKNBwFJPhNHM8c/l5+33",
      "include_colab_link": true
    },
    "kernelspec": {
      "name": "python3",
      "display_name": "Python 3"
    },
    "language_info": {
      "name": "python"
    }
  },
  "cells": [
    {
      "cell_type": "markdown",
      "metadata": {
        "id": "view-in-github",
        "colab_type": "text"
      },
      "source": [
        "<a href=\"https://colab.research.google.com/github/Nileve-teoo/TAREAS-DE-LENGUAJE-DE-PROGRAMACI-N/blob/main/CLASE.ipynb\" target=\"_parent\"><img src=\"https://colab.research.google.com/assets/colab-badge.svg\" alt=\"Open In Colab\"/></a>"
      ]
    },
    {
      "cell_type": "code",
      "execution_count": null,
      "metadata": {
        "colab": {
          "base_uri": "https://localhost:8080/",
          "height": 106
        },
        "id": "9kMECCF8cdqU",
        "outputId": "d457dad0-991c-4803-8c86-bfdeaa4082e0"
      },
      "outputs": [
        {
          "output_type": "error",
          "ename": "SyntaxError",
          "evalue": "cannot assign to literal here. Maybe you meant '==' instead of '='? (<ipython-input-3-ca808f803825>, line 2)",
          "traceback": [
            "\u001b[0;36m  File \u001b[0;32m\"<ipython-input-3-ca808f803825>\"\u001b[0;36m, line \u001b[0;32m2\u001b[0m\n\u001b[0;31m    \"ataque\" = 10,\u001b[0m\n\u001b[0m    ^\u001b[0m\n\u001b[0;31mSyntaxError\u001b[0m\u001b[0;31m:\u001b[0m cannot assign to literal here. Maybe you meant '==' instead of '='?\n"
          ]
        }
      ],
      "source": [
        " nita = {\n",
        "    \"ataque\" = 10,\n",
        "    \"velocidad\" = 8\n",
        "}"
      ]
    },
    {
      "cell_type": "code",
      "source": [
        "barley = {\n",
        "    \"ataque\" = 10,\n",
        "    \"velocidad\" = 8\n",
        "}"
      ],
      "metadata": {
        "id": "oPqHgvw8evfl"
      },
      "execution_count": null,
      "outputs": []
    },
    {
      "cell_type": "code",
      "source": [],
      "metadata": {
        "id": "K63KBFnNd9Ck"
      },
      "execution_count": null,
      "outputs": []
    },
    {
      "cell_type": "code",
      "source": [
        "def pelear(brawler)"
      ],
      "metadata": {
        "id": "VGd1TgZ3dXvP"
      },
      "execution_count": null,
      "outputs": []
    },
    {
      "cell_type": "code",
      "source": [
        "def pelear(brawler, rival) :\n",
        "  fuerza =brawler[]"
      ],
      "metadata": {
        "id": "6RCaeqqrdlFl"
      },
      "execution_count": null,
      "outputs": []
    },
    {
      "cell_type": "code",
      "source": [
        "pelear(barley, nita)"
      ],
      "metadata": {
        "id": "YEJJHMkTd2J4"
      },
      "execution_count": null,
      "outputs": []
    },
    {
      "cell_type": "code",
      "source": [
        "class Brawler:\n",
        "    salud = 100\n",
        "    ataque = 20"
      ],
      "metadata": {
        "id": "VrVSdbUefmRe"
      },
      "execution_count": null,
      "outputs": []
    },
    {
      "cell_type": "code",
      "source": [
        "nita = Brawler()"
      ],
      "metadata": {
        "id": "ZOcqj6Muf2nI"
      },
      "execution_count": null,
      "outputs": []
    },
    {
      "cell_type": "code",
      "source": [
        "kenji = Brawler()"
      ],
      "metadata": {
        "id": "Irq70cRygDYw"
      },
      "execution_count": null,
      "outputs": []
    },
    {
      "cell_type": "code",
      "source": [
        "print(nita.salud)"
      ],
      "metadata": {
        "colab": {
          "base_uri": "https://localhost:8080/"
        },
        "id": "k1aVTs1RgIb4",
        "outputId": "35fc8fb8-a696-48bc-cb6a-f1629b481b06"
      },
      "execution_count": null,
      "outputs": [
        {
          "output_type": "stream",
          "name": "stdout",
          "text": [
            "100\n"
          ]
        }
      ]
    },
    {
      "cell_type": "code",
      "source": [
        "print(kenji.ataque)"
      ],
      "metadata": {
        "colab": {
          "base_uri": "https://localhost:8080/"
        },
        "id": "Y1kJoLhigMSh",
        "outputId": "5897a85a-9bef-48d9-b7ee-7591b3311d82"
      },
      "execution_count": null,
      "outputs": [
        {
          "output_type": "stream",
          "name": "stdout",
          "text": [
            "20\n"
          ]
        }
      ]
    },
    {
      "cell_type": "code",
      "source": [
        "print(nita.ataque)"
      ],
      "metadata": {
        "colab": {
          "base_uri": "https://localhost:8080/"
        },
        "id": "_J6jo6oDgb13",
        "outputId": "1635bd4f-1f25-4be9-8e3b-311a0f6cae15"
      },
      "execution_count": null,
      "outputs": [
        {
          "output_type": "stream",
          "name": "stdout",
          "text": [
            "20\n"
          ]
        }
      ]
    },
    {
      "cell_type": "markdown",
      "source": [
        "\n",
        "```\n",
        "#CREAR UNA CLASE QUE REPRESENTE UN CURSO\n",
        "#ESTE DEBE TENER CODIGO,NOMBRE DE CURSO\n",
        "```"
      ],
      "metadata": {
        "id": "jd4f4UMHgxs3"
      }
    },
    {
      "cell_type": "code",
      "source": [
        "class LP:\n",
        "    nombre = \"Lenguaje de Programación\"\n",
        "    G = 1\n",
        "    horas_G = 2\n",
        "    L = 12\n",
        "    horas_L = 2"
      ],
      "metadata": {
        "id": "cecH6w1tgxJY"
      },
      "execution_count": null,
      "outputs": []
    },
    {
      "cell_type": "code",
      "source": [
        "print(LP.nombre)"
      ],
      "metadata": {
        "colab": {
          "base_uri": "https://localhost:8080/"
        },
        "id": "LTHvtlHPhZcx",
        "outputId": "25eeab1e-a299-4dce-db48-0a63cbbb020b"
      },
      "execution_count": null,
      "outputs": [
        {
          "output_type": "stream",
          "name": "stdout",
          "text": [
            "Lenguaje de Programación\n"
          ]
        }
      ]
    },
    {
      "cell_type": "code",
      "source": [
        "class Curso:\n",
        "  código = 2018124\n",
        "  horas =4\n",
        "  ciclo = 1\n",
        "aga =Curso()\n",
        "print(aga.horas)\n",
        "\n",
        "lp= Curso()\n",
        "print (lp.ciclo)"
      ],
      "metadata": {
        "colab": {
          "base_uri": "https://localhost:8080/"
        },
        "id": "8ApfEwP5iAqQ",
        "outputId": "0a270013-176b-418e-84f5-77cf52615875"
      },
      "execution_count": null,
      "outputs": [
        {
          "output_type": "stream",
          "name": "stdout",
          "text": [
            "4\n",
            "1\n"
          ]
        }
      ]
    },
    {
      "cell_type": "markdown",
      "source": [
        "\n",
        "\n",
        "```\n",
        "# Método\n",
        "```"
      ],
      "metadata": {
        "id": "EBg4Qh-SiMnv"
      }
    },
    {
      "cell_type": "code",
      "source": [
        "class Brawler:\n",
        "    salud=100\n",
        "\n",
        "    def recibir_ataque(self, ataque):\n",
        "        self.salud -=ataque"
      ],
      "metadata": {
        "id": "NsZ5am24iLwz"
      },
      "execution_count": null,
      "outputs": []
    },
    {
      "cell_type": "code",
      "source": [
        "tick = Brawler()\n",
        "print(tick.salud)"
      ],
      "metadata": {
        "colab": {
          "base_uri": "https://localhost:8080/"
        },
        "id": "-YxPFwQBi5fw",
        "outputId": "1bba5727-8206-491d-d863-4fc45ff2235e"
      },
      "execution_count": null,
      "outputs": [
        {
          "output_type": "stream",
          "name": "stdout",
          "text": [
            "100\n"
          ]
        }
      ]
    },
    {
      "cell_type": "code",
      "source": [
        "tick.recibir_ataque(20)\n",
        "print(tick.salud)"
      ],
      "metadata": {
        "colab": {
          "base_uri": "https://localhost:8080/"
        },
        "id": "emc6tsn0jC8W",
        "outputId": "1721b3f1-99a1-432b-ae19-f277084ec25f"
      },
      "execution_count": null,
      "outputs": [
        {
          "output_type": "stream",
          "name": "stdout",
          "text": [
            "80\n"
          ]
        }
      ]
    },
    {
      "cell_type": "code",
      "source": [
        "tick.recibir_ataque(37)\n",
        "print(tick.salud)"
      ],
      "metadata": {
        "colab": {
          "base_uri": "https://localhost:8080/"
        },
        "id": "KL5rXJ6TjNs2",
        "outputId": "8251d8e7-d552-4439-ed3d-743e1afab5c5"
      },
      "execution_count": null,
      "outputs": [
        {
          "output_type": "stream",
          "name": "stdout",
          "text": [
            "43\n"
          ]
        }
      ]
    },
    {
      "cell_type": "markdown",
      "source": [
        "\n",
        "\n",
        "```\n",
        "# agregar horas\n",
        "```\n",
        "\n"
      ],
      "metadata": {
        "id": "tR3vYKzuj5lV"
      }
    },
    {
      "cell_type": "code",
      "source": [
        "class Curso:\n",
        "  código = 2018124\n",
        "  horas =4\n",
        "  ciclo = 1\n",
        "\n",
        "  def agregar_hora(self):\n",
        "      self.horas = self.horas +1\n"
      ],
      "metadata": {
        "id": "NfXyUQ7Ej98-"
      },
      "execution_count": null,
      "outputs": []
    },
    {
      "cell_type": "code",
      "source": [
        "class Curso:\n",
        "  código = 2018124\n",
        "  horas = 2\n",
        "  ciclo = 1\n",
        "\n",
        "  def agregar_hora(self):\n",
        "      self.horas +=1"
      ],
      "metadata": {
        "id": "eIdWt-eLlPUA"
      },
      "execution_count": null,
      "outputs": []
    },
    {
      "cell_type": "code",
      "source": [
        "aga = Curso()"
      ],
      "metadata": {
        "id": "IkGEefpglUj8"
      },
      "execution_count": null,
      "outputs": []
    },
    {
      "cell_type": "code",
      "source": [
        "print(aga.horas)"
      ],
      "metadata": {
        "colab": {
          "base_uri": "https://localhost:8080/"
        },
        "id": "8PeW1IpilXd3",
        "outputId": "cfccc6ff-bc16-4d22-dc3e-ed4a1957e5ef"
      },
      "execution_count": null,
      "outputs": [
        {
          "output_type": "stream",
          "name": "stdout",
          "text": [
            "2\n"
          ]
        }
      ]
    },
    {
      "cell_type": "code",
      "source": [
        "aga.agregar_hora()\n",
        "print(aga.horas)\n",
        "aga.agregar_hora()\n",
        "aga.agregar_hora()\n",
        "aga.agregar_hora()\n",
        "print(aga.horas)\n"
      ],
      "metadata": {
        "colab": {
          "base_uri": "https://localhost:8080/"
        },
        "id": "OV1tHl7nlgXy",
        "outputId": "93efca17-3916-4fb7-9d9b-e2a35fbc1777"
      },
      "execution_count": null,
      "outputs": [
        {
          "output_type": "stream",
          "name": "stdout",
          "text": [
            "3\n",
            "6\n"
          ]
        }
      ]
    },
    {
      "cell_type": "code",
      "source": [
        "lp = Curso\n",
        "print(lp.horas)"
      ],
      "metadata": {
        "colab": {
          "base_uri": "https://localhost:8080/"
        },
        "id": "Y8iinmERl8xw",
        "outputId": "f232eb11-e347-4f97-a273-c71eaf25b45f"
      },
      "execution_count": null,
      "outputs": [
        {
          "output_type": "stream",
          "name": "stdout",
          "text": [
            "2\n"
          ]
        }
      ]
    },
    {
      "cell_type": "code",
      "source": [
        "class Brawler:\n",
        "    salud = 100\n",
        "    nivel = 9\n",
        "\n",
        "    def recibir_ataque(self, ataque):\n",
        "        self.salud -=ataque\n",
        "    def obtener_puntos(self):\n",
        "        return 50 * self.nivel"
      ],
      "metadata": {
        "id": "hN9BzqKumD_X"
      },
      "execution_count": null,
      "outputs": []
    },
    {
      "cell_type": "code",
      "source": [
        "moe = Brawler()\n",
        "print(moe.obtener_puntos())"
      ],
      "metadata": {
        "colab": {
          "base_uri": "https://localhost:8080/"
        },
        "id": "TBpSLxH0mW5e",
        "outputId": "da440e68-8a9d-4cbf-85af-d3af216f7fe2"
      },
      "execution_count": null,
      "outputs": [
        {
          "output_type": "stream",
          "name": "stdout",
          "text": [
            "450\n"
          ]
        }
      ]
    },
    {
      "cell_type": "code",
      "source": [
        "gemas = 2 * moe.obtener_puntos()\n",
        "print (f\"Necesito {gemas} gemas para subir a mi BRAWLER AL NIVEL {moe.nivel}\")"
      ],
      "metadata": {
        "colab": {
          "base_uri": "https://localhost:8080/"
        },
        "id": "qoD2zEVemneZ",
        "outputId": "b5cf7894-441a-475f-89f8-f28d768d6c39"
      },
      "execution_count": null,
      "outputs": [
        {
          "output_type": "stream",
          "name": "stdout",
          "text": [
            "Necesito 900 gemas para subir a mi BRAWLER AL NIVEL 9\n"
          ]
        }
      ]
    },
    {
      "cell_type": "markdown",
      "source": [
        "\n",
        "\n",
        "```\n",
        "# Constructor\n",
        "```\n",
        "\n"
      ],
      "metadata": {
        "id": "l6dyzllOnvCZ"
      }
    },
    {
      "cell_type": "code",
      "source": [
        "class Brawler:\n",
        "    def __init__(self, nombre, salud, nivel):\n",
        "        self.nombre = nombre\n",
        "        self.salud =  salud\n",
        "        self.nivel = nivel\n",
        "\n",
        "    def recibir_ataque(self, ataque):\n",
        "        self.salud -=ataque\n",
        "\n",
        "    def obtener_puntos(self):\n",
        "        return 50 * self.nivel\n",
        "\n",
        "    def presentar(self):\n",
        "          print(f\"{self.nombre} tiene {self.salud} de vida y esta en nivel {self.nivel} \")"
      ],
      "metadata": {
        "id": "zt9b1BMqnp2Y"
      },
      "execution_count": null,
      "outputs": []
    },
    {
      "cell_type": "code",
      "source": [
        "nita = Brawler(\"Nita\",100 ,9)\n",
        "nita.presentar()"
      ],
      "metadata": {
        "colab": {
          "base_uri": "https://localhost:8080/"
        },
        "id": "p8JWvHxqocBY",
        "outputId": "079eb367-b33e-47ef-9325-71061752a0a3"
      },
      "execution_count": null,
      "outputs": [
        {
          "output_type": "stream",
          "name": "stdout",
          "text": [
            "Nita tiene 100 de vida y esta en nivel 9 \n"
          ]
        }
      ]
    },
    {
      "cell_type": "code",
      "source": [],
      "metadata": {
        "id": "WByg5k8PpR99"
      },
      "execution_count": null,
      "outputs": []
    },
    {
      "cell_type": "code",
      "source": [
        "belle = Brawler(\"Belle\",150 ,7)\n",
        "belle.presentar()\n",
        "belle.recibir_ataque(120)\n",
        "belle.presentar()"
      ],
      "metadata": {
        "colab": {
          "base_uri": "https://localhost:8080/"
        },
        "id": "9Ak0Y2yqpKnF",
        "outputId": "1d1bf068-e75b-4b4e-b537-b7d5101c8d07"
      },
      "execution_count": null,
      "outputs": [
        {
          "output_type": "stream",
          "name": "stdout",
          "text": [
            "Belle tiene 150 de vida y esta en nivel 7 \n",
            "Belle tiene 30 de vida y esta en nivel 7 \n"
          ]
        }
      ]
    },
    {
      "cell_type": "code",
      "source": [
        "LP = Curso(\"LP\",20254 , 4, 3, 54)\n",
        "LP.presentar()"
      ],
      "metadata": {
        "colab": {
          "base_uri": "https://localhost:8080/"
        },
        "id": "mQRD6ayjsIp2",
        "outputId": "a9162a7c-6597-4725-9ad7-1dc066bfc5fc"
      },
      "execution_count": null,
      "outputs": [
        {
          "output_type": "stream",
          "name": "stdout",
          "text": [
            " LP de codigo 20254 tiene 4 horas de clase, para el ciclo 3 y tiene 54 inscritos. \n"
          ]
        }
      ]
    },
    {
      "cell_type": "code",
      "source": [
        "LP.agregar_alumnos(25)\n",
        "LP.agregar_hora()\n",
        "LP.presentar"
      ],
      "metadata": {
        "colab": {
          "base_uri": "https://localhost:8080/",
          "height": 103
        },
        "id": "EkvR1bQ4tTjm",
        "outputId": "f231af1c-35c1-4de0-c73e-32f844a3b95f"
      },
      "execution_count": null,
      "outputs": [
        {
          "output_type": "execute_result",
          "data": {
            "text/plain": [
              "<bound method Curso.presentar of <__main__.Curso object at 0x7d9848786170>>"
            ],
            "text/html": [
              "<div style=\"max-width:800px; border: 1px solid var(--colab-border-color);\"><style>\n",
              "      pre.function-repr-contents {\n",
              "        overflow-x: auto;\n",
              "        padding: 8px 12px;\n",
              "        max-height: 500px;\n",
              "      }\n",
              "\n",
              "      pre.function-repr-contents.function-repr-contents-collapsed {\n",
              "        cursor: pointer;\n",
              "        max-height: 100px;\n",
              "      }\n",
              "    </style>\n",
              "    <pre style=\"white-space: initial; background:\n",
              "         var(--colab-secondary-surface-color); padding: 8px 12px;\n",
              "         border-bottom: 1px solid var(--colab-border-color);\"><b>Curso.presentar</b><br/>def presentar()</pre><pre class=\"function-repr-contents function-repr-contents-collapsed\" style=\"\"><a class=\"filepath\" style=\"display:none\" href=\"#\">/content/&lt;ipython-input-93-e97d8218d549&gt;</a>&lt;no docstring&gt;</pre></div>"
            ]
          },
          "metadata": {},
          "execution_count": 98
        }
      ]
    },
    {
      "cell_type": "code",
      "source": [
        "def duelo(x,y)\n",
        "print(\"Inicio (1 vs 1 )\")\n",
        "    x.presentar()\n",
        "    y.presentar()\n",
        "if x.obtener fuerza ()"
      ],
      "metadata": {
        "id": "OoO3kVy1uhSm"
      },
      "execution_count": null,
      "outputs": []
    },
    {
      "cell_type": "code",
      "source": [
        "class Curso:\n",
        "    def __init__(self, nombre, codigo, horas, ciclo, numero_alumnos):\n",
        "        self.nombre = nombre\n",
        "        self.codigo =  codigo\n",
        "        self.horas = horas\n",
        "        self.ciclo = ciclo\n",
        "        self.numero_alumnos =  numero_alumnos\n",
        "\n",
        "\n",
        "    def agregar_hora(self):\n",
        "        self.horas +=1\n",
        "\n",
        "    def agregar_alumnos(self,numero_alumnos):\n",
        "        self.numero_alumnos += numero_alumnos\n",
        "\n",
        "    def presentar(self):\n",
        "          print(f\" {self.nombre} de codigo {self.codigo} tiene {self.horas} horas de clase, para el ciclo {self.ciclo} y tiene {self.numero_alumnos} inscritos. \")\n",
        "\n"
      ],
      "metadata": {
        "id": "_4Gn_ALFpmCu"
      },
      "execution_count": null,
      "outputs": []
    },
    {
      "cell_type": "code",
      "source": [
        "class Empleado:\n",
        "    # Variables de clase\n",
        "    nombre_universidad = \"Universidad Nacional Mayor de San Marcos\"\n",
        "    total_empleados = 0\n",
        "\n",
        "    # Constructor\n",
        "    def __init__(self, primer_nombre, apellido, dni, puesto, salario):\n",
        "        # Variables de instancia\n",
        "        self.primer_nombre = primer_nombre\n",
        "        self.apellido = apellido\n",
        "        self.dni = dni\n",
        "        self.puesto = puesto\n",
        "        self.salario = salario\n",
        "\n",
        "        # Incrementar el contador de empleados\n",
        "        Empleado.total_empleados += 1\n",
        "\n",
        "    # Método para obtener el nombre completo del empleado\n",
        "    def obtener_nombre(self):\n",
        "        return f\"{self.primer_nombre} {self.apellido}\""
      ],
      "metadata": {
        "id": "hzBt5H0eQBT9"
      },
      "execution_count": null,
      "outputs": []
    },
    {
      "cell_type": "code",
      "source": [
        "LP = Curso(\"LP\",20254 , 4, 3, 54)\n",
        "LP.presentar()"
      ],
      "metadata": {
        "id": "m9nBFFDbQjKE"
      },
      "execution_count": null,
      "outputs": []
    },
    {
      "cell_type": "code",
      "source": [
        "empleado1 = Empleado(\"Manuel\", \"Loaiza\", \"12345678\", \"Profesor\", 3500)\n",
        "empleado2 = Empleado(\"Laura\", \"Sanchez\", \"87654321\", \"Administrativo\", 2800)\n"
      ],
      "metadata": {
        "id": "hc_K0uniQxBV"
      },
      "execution_count": null,
      "outputs": []
    },
    {
      "cell_type": "code",
      "source": [
        "dano_placaje = 500\n",
        "mana_pocion = 100\n",
        "\n",
        "\n",
        "class Pokemon:\n",
        "    def __init__(self, nombre, estamina, inteligencia, agilidad):\n",
        "        self.nombre = nombre\n",
        "        self.__estamina = estamina\n",
        "        self.__inteligencia = inteligencia\n",
        "        self.agilidad = agilidad\n",
        "        self.mana = self.__inteligencia * 10\n",
        "        self.salud = self.__estamina * 100\n",
        "\n",
        "    def recibir_placaje(self):\n",
        "        self.salud -= dano_placaje\n",
        "        print(f\"{self.nombre} recibió un placaje\")\n",
        "\n",
        "    def tomar_pocion_mana(self):\n",
        "        self.mana += mana_pocion\n",
        "        print(f\"{self.nombre} tomó una poción\")\n",
        "\n",
        "    def presentar(self):\n",
        "        print(f\"[{self.nombre}] maná: {self.mana} salud: {self.salud}\")\n",
        "\n",
        "\n",
        "charmander = Pokemon(\"Charmander\", 10, 10, 20)\n",
        "mudkip = Pokemon(\"Mudkip\", 20, 5, 18)\n",
        "\n",
        "charmander.presentar()\n",
        "\n",
        "mudkip.presentar()\n",
        "mudkip.recibir_placaje()\n",
        "mudkip.presentar()\n",
        "mudkip.tomar_pocion_mana()\n",
        "mudkip.presentar()\n",
        "\n",
        "charmander.presentar()"
      ],
      "metadata": {
        "id": "cTQ_4S16tsBX"
      },
      "execution_count": null,
      "outputs": []
    },
    {
      "cell_type": "code",
      "source": [],
      "metadata": {
        "id": "2BM3m1mltvNw"
      },
      "execution_count": null,
      "outputs": []
    },
    {
      "cell_type": "code",
      "source": [
        "dano_placaje = 500\n",
        "mana_pocion = 100\n",
        "\n",
        "\n",
        "class Pokemon:\n",
        "    def __init__(self, nombre, estamina, inteligencia, agilidad):\n",
        "        self.nombre = nombre\n",
        "        self.__estamina = estamina\n",
        "        self.__inteligencia = inteligencia\n",
        "        self.agilidad = agilidad\n",
        "        self.mana = self.__inteligencia * 10\n",
        "        self.salud = self.__estamina * 100\n",
        "\n",
        "    def recibir_placaje(self):\n",
        "        self.salud -= dano_placaje\n",
        "        print(f\"{self.nombre} recibió un placaje\")\n",
        "\n",
        "    def tomar_pocion_mana(self):\n",
        "        self.mana += mana_pocion\n",
        "        print(f\"{self.nombre} tomó una poción\")\n",
        "\n",
        "    def presentar(self):\n",
        "        print(f\"[{self.nombre}] maná: {self.mana} salud: {self.salud}\")\n",
        "\n",
        "\n",
        "charmander = Pokemon(\"Charmander\", 10, 10, 20)\n",
        "mudkip = Pokemon(\"Mudkip\", 20, 5, 18)\n",
        "\n",
        "charmander.presentar()\n",
        "\n",
        "mudkip.presentar()\n",
        "mudkip.recibir_placaje()\n",
        "mudkip.presentar()\n",
        "mudkip.tomar_pocion_mana()\n",
        "mudkip.presentar()\n",
        "\n",
        "charmander.presentar()\n"
      ],
      "metadata": {
        "colab": {
          "base_uri": "https://localhost:8080/"
        },
        "id": "8do1_h_VtvWW",
        "outputId": "db32561c-17bc-429a-8c49-aa838489b3f8"
      },
      "execution_count": 5,
      "outputs": [
        {
          "output_type": "stream",
          "name": "stdout",
          "text": [
            "[Charmander] maná: 100 salud: 1000\n",
            "[Mudkip] maná: 50 salud: 2000\n",
            "Mudkip recibió un placaje\n",
            "[Mudkip] maná: 50 salud: 1500\n",
            "Mudkip tomó una poción\n",
            "[Mudkip] maná: 150 salud: 1500\n",
            "[Charmander] maná: 100 salud: 1000\n"
          ]
        }
      ]
    }
  ]
}